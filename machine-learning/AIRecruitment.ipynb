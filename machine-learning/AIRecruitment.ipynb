{
  "nbformat": 4,
  "nbformat_minor": 0,
  "metadata": {
    "colab": {
      "name": "AIRecruitment.ipynb",
      "provenance": [],
      "collapsed_sections": []
    },
    "kernelspec": {
      "name": "python3",
      "display_name": "Python 3"
    }
  },
  "cells": [
    {
      "cell_type": "code",
      "metadata": {
        "id": "x6PxWfZiDx50",
        "colab": {
          "base_uri": "https://localhost:8080/",
          "height": 1000
        },
        "outputId": "a806a651-17d0-4a26-bf7b-5fbd14b131c2"
      },
      "source": [
        "from tika import parser\n",
        "import datefinder\n",
        "import numpy as np\n",
        "\n",
        "file = r'/content/resume.pdf'\n",
        "file_data = parser.from_file(file)\n",
        "text = file_data['content']\n",
        "text = text.strip().upper()\n",
        "\n",
        "print(text)"
      ],
      "execution_count": null,
      "outputs": [
        {
          "output_type": "stream",
          "text": [
            "KRITIKA RUPAULIHA EMAIL : RKRITIKA1508@GMAIL.COM\n",
            "LINKEDIN: KRITIKA-RUPAULIHA MOBILE : (+91)6264610385\n",
            "\n",
            "EDUCATION\n",
            "\n",
            "• ITM GROUP OF INSTITUTIONS GWALIOR, INDIA\n",
            "BACHELOR OF TECHNOLOGY IN COMPUTER SCIENCE AND ENGINEERING; GPA: 8.42/10.0; SILVER MEDALLIST 2017 - 2021\n",
            "\n",
            "◦ COURSEWORK: DATA STRUCTURES, ALGORITHMS, OBJECT-ORIENTED PROGRAMMING, SOFTWARE ENGINEERING, OPERATING SYSTEMS,\n",
            "DATABASES, DATA ANALYTICS, MACHINE LEARNING, WEB TECHNOLOGIES, COMPUTER NETWORKS, PROJECT MANAGEMENT\n",
            "\n",
            "◦ ACTIVITIES AND LEADERSHIP: GOOGLE EXPLORE ML FACILITATOR, SCHOOL OF AI CORE, STUDENT COUNCIL, CLASS REPRESENTATIVE\n",
            "\n",
            "EXPERIENCE\n",
            "\n",
            "• SOFTWARE ENGINEERING INTERN, MICROSOFT MAY 2020 - PRESENT\n",
            "◦ DATA COLLECTION: AGGREGATED DATA FROM AZURE STORAGE QUEUE AND ADO GIT REST APIS TO COLLECT METADATA ABOUT\n",
            "\n",
            "BYPASSED PULL REQUESTS.\n",
            "\n",
            "◦ ANOMALY DETECTION: IMPLEMENTED CHECKS AND AUTOMATED CODE REVIEWS TO DETECT ANOMALIES IN OFFICE CODE CHECKINS.\n",
            "CREATED A POWER BI DASHBOARD TO DISPLAY THE RESULTS.\n",
            "\n",
            "◦ MACHINE LEARNING: ANALYSED THE DATA USING T-SNE AND PCA AND IMPLEMENTED OUTLIER DETECTION ALGORITHMS.\n",
            "• MACHINE LEARNING ENGINEER, OMDENA OCTOBER 2019 - PRESENT\n",
            "\n",
            "◦ DETECT FOREST FIRE OUTBREAKS USING DEEP LEARNING: USED CNN, RESNET AND VGGNET FOR CLASSIFICATION WHICH\n",
            "INCREASED THE ACCURACY BY 10%. USED DEEPLAB V3 AND UNET FOR SMOKE SEGMENTATION WHICH IMPROVED THE JACCARD INDEX\n",
            "BY 12%. THE MODEL IS CURRENTLY DEPLOYED IN SURVEILLANCE CAMERAS AROUND THE AMAZON RAINFOREST AREA.\n",
            "\n",
            "◦ POLICY EFFECTS ON THE VULNERABLE POPULATION DURING PANDEMICS: MANAGED A TEAM OF 10 PEOPLE TO CREATE A DATASET\n",
            "OF POLICY RESPONSES AGAINST THE CORONAVIRUS PANDEMIC. CONDUCTED DATA-DRIVEN IMPACT-ANALYSES ON HOW THE POLICIES HAVE\n",
            "AFFECTED VULNERABLE POPULATIONS IN TERMS OF HEALTHCARE ACCESS, WAGE LOSS, EMPLOYMENT LOSS AND DOMESTIC VIOLENCE.\n",
            "\n",
            "• RESEARCH INTERN, INDIAN INSTITUTE OF INFORMATION TECHNOLOGY ALLAHABAD\n",
            "ADVISOR: PROF. ANUPAM AGRAWAL DECEMBER 2019 - JANUARY 2020\n",
            "◦ FEATURE EXTRACTION: DEVELOPED TECHNIQUES TO EXTRACT FEATURES RELATED TO FACIAL EXPRESSIONS, BODY GESTURES, VOICE AND\n",
            "\n",
            "SPOKEN SENTENCES FROM VIDEOS.\n",
            "\n",
            "◦ MULTIMODAL FUSION: BUILT NEURAL NETWORK ARCHITECTURES BASED ON CNNS, RNNS AND TRANSFER LEARNING FOR EMOTION\n",
            "CLASSIFICATION. EXPERIMENTED WITH DECISION LEVEL AND FEATURE LEVEL FUSION FOR COMBINING THE DIFFERENT MODALITIES.\n",
            "\n",
            "◦ EVALUATION: TESTED THE MODEL ON MULTIMODAL DATASETS E.G. FABO, CREMA-D, GEMEP, POLISH DATASET, ETC.\n",
            "• SOFTWARE ENGINEER INTERN, REFLEX SOLUTIONS LLP MARCH 2019 - OCTOBER 2019\n",
            "\n",
            "◦ DATA VISUALIZATION TOOL: BUILT A DATA VISUALIZATION WEBSITE USING PYTHON, DJANGO, PLOTLY AND D3.JS. ADDED SUPPORT\n",
            "FOR BUILDING INTERACTIVE GRAPHS, MULTIPLE DATABASE FORMATS AND BUILDING DASHBOARDS.\n",
            "\n",
            "• DEEP LEARNING INTERN, LEADING INDIA AI\n",
            "ADVISOR: DR. SRIDHAR SWAMINATHAN MAY 2019 - JUNE 2019\n",
            "◦ FEATURE EXTRACTION: EXTRACTED BODY GESTURES, FACIAL EXPRESSION AND SPEECH FEATURES FROM POLISH EMOTION DATABASE.\n",
            "◦ MULTIMODAL EMOTION RECOGNITION: DEVELOPED A NEURAL NETWORK ARCHITECTURE TO DETECT EMOTION FROM EACH MODALITY.\n",
            "\n",
            "COMBINED THE RESULTS USING WEIGHTED AVERAGE APPROACH TO GET THE FINAL RESULT\n",
            "\n",
            "PROJECTS\n",
            "\n",
            "• BOOK RECOMMENDATION SYSTEM: CONTENT-BASED RECOMMENDATION SYSTEM ON GOODREADS DATASET USING NATURAL LANGUAGE\n",
            "PROCESSING AND SIMILARITY METRICS. DEPLOYED USING GOODREADS API & DJANGO.\n",
            "\n",
            "• SENTIMENT ANALYSIS OF TWITTER DATA: USED MACHINE LEARNING ALGORITHMS TO CLASSIFY THE SENTIMENT OF TWEETS. USED THE\n",
            "TWITTER API, TWEEPY AND DJANGO FOR DEPLOYMENT.\n",
            "\n",
            "• CONTENT BASED IMAGE RETRIEVAL: USED OPENCV TO GET SIMILAR IMAGES BASED ON COLOR FROM INRIA HOLIDAYS DATASET.\n",
            "• ARTIST VOCABULARY COMPARISON: USED NLP TO ANALYZE LYRIC STRUCTURE AND VOCABULARY USED BY BEST-SELLING MUSIC ARTISTS.\n",
            "• OTHER PROJECTS: LOAN PREDICTION USING MACHINE LEARNING; SCIENTIFIC CALCULATOR; DAVIS CHALLENGE ON VIDEO OBJECT\n",
            "\n",
            "SEGMENTATION; QUORA QUESTION SIMILARITY CHALLENGE; MARKOV CHAIN TEXT GENERATION; CHATBOT USING SEQ2SEQ MODEL; SARCASM\n",
            "DETECTION IN NLP; TEXT ANALYSIS OF GOT DIALOGUES\n",
            "\n",
            "PROGRAMMING SKILLS\n",
            "\n",
            "• STRONGEST AREAS: MACHINE LEARNING, ALGORITHMS, NATURAL LANGUAGE PROCESSING, COMPUTER VISION\n",
            "• LANGUAGES: PYTHON, C, C++, JAVASCRIPT, JAVA\n",
            "• TOOLS & FRAMEWORKS: NODEJS, MONGODB, DJANGO, KERAS, TENSORFLOW, MYSQL, SCIKIT-LEARN, GIT\n",
            "\n",
            "AWARDS AND ACHIEVEMENTS\n",
            "\n",
            "• ADOBE INDIA WOMEN IN TECHNOLOGY SCHOLARSHIP 2020: FINALIST AMONG 10K+ APPLICANTS\n",
            "• GOOGLE EXPLORE ML PROGRAM: ONE OF THE 120 SELECTED STUDENTS AMONG 10K+ APPLICANTS\n",
            "• LEADING INDIA AI INTERNSHIP PROGRAM: ONE OF TOP 5 TEAMS AMONG 60+ TEAMS\n",
            "• ITM ACADEMIC SCHOLARSHIP: RECIPIENT OF THE ITM GOI ACADEMIC SCHOLARSHIP FOR EXCEPTIONAL ACADEMIC PERFORMANCE.\n",
            "\n",
            "MAILTO:RKRITIKA1508@GMAIL.COM\n",
            "HTTPS://WWW.LINKEDIN.COM/IN/KRITIKA-RUPAULIHA/\n",
            "\n",
            "\tEDUCATION\n",
            "\tEXPERIENCE\n",
            "\tPROJECTS\n",
            "\tPROGRAMMING SKILLS\n",
            "\tAWARDS AND ACHIEVEMENTS\n"
          ],
          "name": "stdout"
        }
      ]
    },
    {
      "cell_type": "markdown",
      "metadata": {
        "id": "klkqLtDEKcSh"
      },
      "source": [
        "min and max yrs diff for experience\n",
        "choose not isalpha() for number of projects\n",
        "until one or two words are found in sentence-for project section"
      ]
    },
    {
      "cell_type": "code",
      "metadata": {
        "id": "9FoV_Fy_EDoe"
      },
      "source": [
        "# Number of projects\n",
        "def project(text):\n",
        "  num1 = text.find(\"PROJECTS\")\n",
        "  num2 = text.find(\"PROGRAMMING SKILLS\")\n",
        "  pro = text[num1:num2].split(\"\\n\")\n",
        "  pro = [i for i in pro if i]\n",
        "  count=0\n",
        "  for l in range(len(pro)):\n",
        "    if not pro[l][0].isalpha():\n",
        "      count+=1\n",
        "  return count"
      ],
      "execution_count": null,
      "outputs": []
    },
    {
      "cell_type": "code",
      "metadata": {
        "id": "aaTmKG8_D6Ef",
        "colab": {
          "base_uri": "https://localhost:8080/",
          "height": 35
        },
        "outputId": "5f95c7fd-eca5-40ea-b65c-4b0e3bdc7783"
      },
      "source": [
        "project(text)"
      ],
      "execution_count": null,
      "outputs": [
        {
          "output_type": "execute_result",
          "data": {
            "text/plain": [
              "5"
            ]
          },
          "metadata": {
            "tags": []
          },
          "execution_count": 17
        }
      ]
    },
    {
      "cell_type": "code",
      "metadata": {
        "id": "MSZY-wsXDE2g"
      },
      "source": [
        "# Years of Experience\n",
        "def exp(text):\n",
        "  num1 = text.find(\"EXPERIENCE\")\n",
        "  num2 = text.find(\"PROJECTS\")\n",
        "  experience = text[num1:num2]\n",
        "  matches = datefinder.find_dates(experience)\n",
        "  yrs=[]\n",
        "  for match in matches:\n",
        "    yrs.append(match.year)\n",
        "  exp = (max(yrs)-min(yrs))+1\n",
        "  return exp"
      ],
      "execution_count": null,
      "outputs": []
    },
    {
      "cell_type": "code",
      "metadata": {
        "id": "WFIfLhP8HNRa",
        "colab": {
          "base_uri": "https://localhost:8080/",
          "height": 35
        },
        "outputId": "d0291cfd-098e-4eed-e0bc-9e0280f20597"
      },
      "source": [
        "exp(text)"
      ],
      "execution_count": null,
      "outputs": [
        {
          "output_type": "execute_result",
          "data": {
            "text/plain": [
              "2"
            ]
          },
          "metadata": {
            "tags": []
          },
          "execution_count": 11
        }
      ]
    },
    {
      "cell_type": "code",
      "metadata": {
        "id": "BIqr1SbgLNA6"
      },
      "source": [
        "# Years of Education\n",
        "def edu(text):\n",
        "  num1 = text.find(\"EDUCATION\")\n",
        "  num2 = text.find(\"EXPERIENCE\")\n",
        "  education = text[num1:num2].split(\"\\n\")\n",
        "  education = [i for i in education if i]\n",
        "\n",
        "  yrs = []\n",
        "  for l in education:\n",
        "    l = re.findall(r'(\\d{4}) - (\\d{4})', l)\n",
        "    l = [list(map(int,i)) for i in l]\n",
        "    yrs.append(l)\n",
        "  yrs = [i for i in yrs if i]\n",
        "  \n",
        "  yrs = np.array(yrs)\n",
        "  yrs = yrs.ravel()\n",
        "  exp = (max(yrs)-min(yrs))\n",
        "  return exp "
      ],
      "execution_count": null,
      "outputs": []
    },
    {
      "cell_type": "code",
      "metadata": {
        "id": "K4a0jo5qbxNi",
        "colab": {
          "base_uri": "https://localhost:8080/",
          "height": 35
        },
        "outputId": "2f2bffbe-16ac-4544-a099-e229ea26fd77"
      },
      "source": [
        "edu(text)"
      ],
      "execution_count": null,
      "outputs": [
        {
          "output_type": "execute_result",
          "data": {
            "text/plain": [
              "4"
            ]
          },
          "metadata": {
            "tags": []
          },
          "execution_count": 192
        }
      ]
    },
    {
      "cell_type": "markdown",
      "metadata": {
        "id": "EwggPsLGHYIQ"
      },
      "source": [
        "#DATA ANALYSIS"
      ]
    },
    {
      "cell_type": "code",
      "metadata": {
        "id": "WvaGskxSDYPS"
      },
      "source": [
        "import csv\n",
        "import pandas as pd\n",
        "import matplotlib.pyplot as plt\n",
        "import seaborn as sns\n",
        "import numpy as np\n",
        "\n",
        "from sklearn.linear_model import LogisticRegression\n",
        "from sklearn.model_selection import train_test_split, cross_val_score\n",
        "from sklearn import metrics\n",
        "\n",
        "from patsy import dmatrices\n",
        "import pickle"
      ],
      "execution_count": 1,
      "outputs": []
    },
    {
      "cell_type": "code",
      "metadata": {
        "id": "R7lio6k2CFjy",
        "colab": {
          "base_uri": "https://localhost:8080/",
          "height": 194
        },
        "outputId": "85e3d963-5fe7-4e8c-d56c-981d58a55032"
      },
      "source": [
        "df = pd.read_csv(\"HR_comma_sep.csv\")\n",
        "df.head()"
      ],
      "execution_count": 2,
      "outputs": [
        {
          "output_type": "execute_result",
          "data": {
            "text/html": [
              "<div>\n",
              "<style scoped>\n",
              "    .dataframe tbody tr th:only-of-type {\n",
              "        vertical-align: middle;\n",
              "    }\n",
              "\n",
              "    .dataframe tbody tr th {\n",
              "        vertical-align: top;\n",
              "    }\n",
              "\n",
              "    .dataframe thead th {\n",
              "        text-align: right;\n",
              "    }\n",
              "</style>\n",
              "<table border=\"1\" class=\"dataframe\">\n",
              "  <thead>\n",
              "    <tr style=\"text-align: right;\">\n",
              "      <th></th>\n",
              "      <th>satisfaction_level</th>\n",
              "      <th>last_evaluation</th>\n",
              "      <th>number_project</th>\n",
              "      <th>average_montly_hours</th>\n",
              "      <th>time_spend_company</th>\n",
              "      <th>Work_accident</th>\n",
              "      <th>left</th>\n",
              "      <th>promotion_last_5years</th>\n",
              "      <th>sales</th>\n",
              "      <th>salary</th>\n",
              "    </tr>\n",
              "  </thead>\n",
              "  <tbody>\n",
              "    <tr>\n",
              "      <th>0</th>\n",
              "      <td>0.38</td>\n",
              "      <td>0.53</td>\n",
              "      <td>2</td>\n",
              "      <td>157</td>\n",
              "      <td>3</td>\n",
              "      <td>0</td>\n",
              "      <td>1</td>\n",
              "      <td>0</td>\n",
              "      <td>sales</td>\n",
              "      <td>low</td>\n",
              "    </tr>\n",
              "    <tr>\n",
              "      <th>1</th>\n",
              "      <td>0.80</td>\n",
              "      <td>0.86</td>\n",
              "      <td>5</td>\n",
              "      <td>262</td>\n",
              "      <td>6</td>\n",
              "      <td>0</td>\n",
              "      <td>1</td>\n",
              "      <td>0</td>\n",
              "      <td>sales</td>\n",
              "      <td>medium</td>\n",
              "    </tr>\n",
              "    <tr>\n",
              "      <th>2</th>\n",
              "      <td>0.11</td>\n",
              "      <td>0.88</td>\n",
              "      <td>7</td>\n",
              "      <td>272</td>\n",
              "      <td>4</td>\n",
              "      <td>0</td>\n",
              "      <td>1</td>\n",
              "      <td>0</td>\n",
              "      <td>sales</td>\n",
              "      <td>medium</td>\n",
              "    </tr>\n",
              "    <tr>\n",
              "      <th>3</th>\n",
              "      <td>0.72</td>\n",
              "      <td>0.87</td>\n",
              "      <td>5</td>\n",
              "      <td>223</td>\n",
              "      <td>5</td>\n",
              "      <td>0</td>\n",
              "      <td>1</td>\n",
              "      <td>0</td>\n",
              "      <td>sales</td>\n",
              "      <td>low</td>\n",
              "    </tr>\n",
              "    <tr>\n",
              "      <th>4</th>\n",
              "      <td>0.37</td>\n",
              "      <td>0.52</td>\n",
              "      <td>2</td>\n",
              "      <td>159</td>\n",
              "      <td>3</td>\n",
              "      <td>0</td>\n",
              "      <td>1</td>\n",
              "      <td>0</td>\n",
              "      <td>sales</td>\n",
              "      <td>low</td>\n",
              "    </tr>\n",
              "  </tbody>\n",
              "</table>\n",
              "</div>"
            ],
            "text/plain": [
              "   satisfaction_level  last_evaluation  ...  sales  salary\n",
              "0                0.38             0.53  ...  sales     low\n",
              "1                0.80             0.86  ...  sales  medium\n",
              "2                0.11             0.88  ...  sales  medium\n",
              "3                0.72             0.87  ...  sales     low\n",
              "4                0.37             0.52  ...  sales     low\n",
              "\n",
              "[5 rows x 10 columns]"
            ]
          },
          "metadata": {
            "tags": []
          },
          "execution_count": 2
        }
      ]
    },
    {
      "cell_type": "code",
      "metadata": {
        "id": "5M8LOIKUDVz0",
        "colab": {
          "base_uri": "https://localhost:8080/",
          "height": 282
        },
        "outputId": "ad4256e4-0f0d-45b7-ad76-4ffe40b6952f"
      },
      "source": [
        "df.describe()"
      ],
      "execution_count": 3,
      "outputs": [
        {
          "output_type": "execute_result",
          "data": {
            "text/html": [
              "<div>\n",
              "<style scoped>\n",
              "    .dataframe tbody tr th:only-of-type {\n",
              "        vertical-align: middle;\n",
              "    }\n",
              "\n",
              "    .dataframe tbody tr th {\n",
              "        vertical-align: top;\n",
              "    }\n",
              "\n",
              "    .dataframe thead th {\n",
              "        text-align: right;\n",
              "    }\n",
              "</style>\n",
              "<table border=\"1\" class=\"dataframe\">\n",
              "  <thead>\n",
              "    <tr style=\"text-align: right;\">\n",
              "      <th></th>\n",
              "      <th>satisfaction_level</th>\n",
              "      <th>last_evaluation</th>\n",
              "      <th>number_project</th>\n",
              "      <th>average_montly_hours</th>\n",
              "      <th>time_spend_company</th>\n",
              "      <th>Work_accident</th>\n",
              "      <th>left</th>\n",
              "      <th>promotion_last_5years</th>\n",
              "    </tr>\n",
              "  </thead>\n",
              "  <tbody>\n",
              "    <tr>\n",
              "      <th>count</th>\n",
              "      <td>14999.000000</td>\n",
              "      <td>14999.000000</td>\n",
              "      <td>14999.000000</td>\n",
              "      <td>14999.000000</td>\n",
              "      <td>14999.000000</td>\n",
              "      <td>14999.000000</td>\n",
              "      <td>14999.000000</td>\n",
              "      <td>14999.000000</td>\n",
              "    </tr>\n",
              "    <tr>\n",
              "      <th>mean</th>\n",
              "      <td>0.612834</td>\n",
              "      <td>0.716102</td>\n",
              "      <td>3.803054</td>\n",
              "      <td>201.050337</td>\n",
              "      <td>3.498233</td>\n",
              "      <td>0.144610</td>\n",
              "      <td>0.238083</td>\n",
              "      <td>0.021268</td>\n",
              "    </tr>\n",
              "    <tr>\n",
              "      <th>std</th>\n",
              "      <td>0.248631</td>\n",
              "      <td>0.171169</td>\n",
              "      <td>1.232592</td>\n",
              "      <td>49.943099</td>\n",
              "      <td>1.460136</td>\n",
              "      <td>0.351719</td>\n",
              "      <td>0.425924</td>\n",
              "      <td>0.144281</td>\n",
              "    </tr>\n",
              "    <tr>\n",
              "      <th>min</th>\n",
              "      <td>0.090000</td>\n",
              "      <td>0.360000</td>\n",
              "      <td>2.000000</td>\n",
              "      <td>96.000000</td>\n",
              "      <td>2.000000</td>\n",
              "      <td>0.000000</td>\n",
              "      <td>0.000000</td>\n",
              "      <td>0.000000</td>\n",
              "    </tr>\n",
              "    <tr>\n",
              "      <th>25%</th>\n",
              "      <td>0.440000</td>\n",
              "      <td>0.560000</td>\n",
              "      <td>3.000000</td>\n",
              "      <td>156.000000</td>\n",
              "      <td>3.000000</td>\n",
              "      <td>0.000000</td>\n",
              "      <td>0.000000</td>\n",
              "      <td>0.000000</td>\n",
              "    </tr>\n",
              "    <tr>\n",
              "      <th>50%</th>\n",
              "      <td>0.640000</td>\n",
              "      <td>0.720000</td>\n",
              "      <td>4.000000</td>\n",
              "      <td>200.000000</td>\n",
              "      <td>3.000000</td>\n",
              "      <td>0.000000</td>\n",
              "      <td>0.000000</td>\n",
              "      <td>0.000000</td>\n",
              "    </tr>\n",
              "    <tr>\n",
              "      <th>75%</th>\n",
              "      <td>0.820000</td>\n",
              "      <td>0.870000</td>\n",
              "      <td>5.000000</td>\n",
              "      <td>245.000000</td>\n",
              "      <td>4.000000</td>\n",
              "      <td>0.000000</td>\n",
              "      <td>0.000000</td>\n",
              "      <td>0.000000</td>\n",
              "    </tr>\n",
              "    <tr>\n",
              "      <th>max</th>\n",
              "      <td>1.000000</td>\n",
              "      <td>1.000000</td>\n",
              "      <td>7.000000</td>\n",
              "      <td>310.000000</td>\n",
              "      <td>10.000000</td>\n",
              "      <td>1.000000</td>\n",
              "      <td>1.000000</td>\n",
              "      <td>1.000000</td>\n",
              "    </tr>\n",
              "  </tbody>\n",
              "</table>\n",
              "</div>"
            ],
            "text/plain": [
              "       satisfaction_level  last_evaluation  ...          left  promotion_last_5years\n",
              "count        14999.000000     14999.000000  ...  14999.000000           14999.000000\n",
              "mean             0.612834         0.716102  ...      0.238083               0.021268\n",
              "std              0.248631         0.171169  ...      0.425924               0.144281\n",
              "min              0.090000         0.360000  ...      0.000000               0.000000\n",
              "25%              0.440000         0.560000  ...      0.000000               0.000000\n",
              "50%              0.640000         0.720000  ...      0.000000               0.000000\n",
              "75%              0.820000         0.870000  ...      0.000000               0.000000\n",
              "max              1.000000         1.000000  ...      1.000000               1.000000\n",
              "\n",
              "[8 rows x 8 columns]"
            ]
          },
          "metadata": {
            "tags": []
          },
          "execution_count": 3
        }
      ]
    },
    {
      "cell_type": "code",
      "metadata": {
        "id": "UOxfG5W_LBvQ",
        "colab": {
          "base_uri": "https://localhost:8080/"
        },
        "outputId": "54f70819-4356-45cc-c0e1-c22ad1360641"
      },
      "source": [
        "df.shape"
      ],
      "execution_count": 4,
      "outputs": [
        {
          "output_type": "execute_result",
          "data": {
            "text/plain": [
              "(14999, 10)"
            ]
          },
          "metadata": {
            "tags": []
          },
          "execution_count": 4
        }
      ]
    },
    {
      "cell_type": "code",
      "metadata": {
        "id": "QiEEigZhEFb3",
        "colab": {
          "base_uri": "https://localhost:8080/"
        },
        "outputId": "4ed41125-a054-4b5a-990f-a41616636688"
      },
      "source": [
        "df.info()"
      ],
      "execution_count": 5,
      "outputs": [
        {
          "output_type": "stream",
          "text": [
            "<class 'pandas.core.frame.DataFrame'>\n",
            "RangeIndex: 14999 entries, 0 to 14998\n",
            "Data columns (total 10 columns):\n",
            " #   Column                 Non-Null Count  Dtype  \n",
            "---  ------                 --------------  -----  \n",
            " 0   satisfaction_level     14999 non-null  float64\n",
            " 1   last_evaluation        14999 non-null  float64\n",
            " 2   number_project         14999 non-null  int64  \n",
            " 3   average_montly_hours   14999 non-null  int64  \n",
            " 4   time_spend_company     14999 non-null  int64  \n",
            " 5   Work_accident          14999 non-null  int64  \n",
            " 6   left                   14999 non-null  int64  \n",
            " 7   promotion_last_5years  14999 non-null  int64  \n",
            " 8   sales                  14999 non-null  object \n",
            " 9   salary                 14999 non-null  object \n",
            "dtypes: float64(2), int64(6), object(2)\n",
            "memory usage: 1.1+ MB\n"
          ],
          "name": "stdout"
        }
      ]
    },
    {
      "cell_type": "code",
      "metadata": {
        "id": "bElZL3_BG1mw",
        "colab": {
          "base_uri": "https://localhost:8080/"
        },
        "outputId": "53191ba8-9950-43b1-9b68-90db71478adb"
      },
      "source": [
        "df.isnull().sum()"
      ],
      "execution_count": 6,
      "outputs": [
        {
          "output_type": "execute_result",
          "data": {
            "text/plain": [
              "satisfaction_level       0\n",
              "last_evaluation          0\n",
              "number_project           0\n",
              "average_montly_hours     0\n",
              "time_spend_company       0\n",
              "Work_accident            0\n",
              "left                     0\n",
              "promotion_last_5years    0\n",
              "sales                    0\n",
              "salary                   0\n",
              "dtype: int64"
            ]
          },
          "metadata": {
            "tags": []
          },
          "execution_count": 6
        }
      ]
    },
    {
      "cell_type": "markdown",
      "metadata": {
        "id": "lKkAITCxH10A"
      },
      "source": [
        "#Data Visualisation"
      ]
    },
    {
      "cell_type": "code",
      "metadata": {
        "id": "8azu0XDpH9AC",
        "colab": {
          "base_uri": "https://localhost:8080/",
          "height": 1000
        },
        "outputId": "6a00bf7b-a80b-4762-a312-564d361f4844"
      },
      "source": [
        "for i in df.columns:\n",
        "    print('\\t\\t\\t\\t',i)\n",
        "    print(df[i].value_counts())\n",
        "    plt.title('Countplot')\n",
        "    plt.ylabel('counts')\n",
        "    plt.xlabel(i)\n",
        "    sns.barplot(df[i].value_counts().index[:] , df[i].value_counts().values[:])\n",
        "    plt.xticks(rotation=30)\n",
        "    # plt.tight_layout()\n",
        "    plt.show()\n",
        "    print('\\n\\n')"
      ],
      "execution_count": 7,
      "outputs": [
        {
          "output_type": "stream",
          "text": [
            "\t\t\t\t satisfaction_level\n",
            "0.10    358\n",
            "0.11    335\n",
            "0.74    257\n",
            "0.77    252\n",
            "0.84    247\n",
            "       ... \n",
            "0.25     34\n",
            "0.28     31\n",
            "0.27     30\n",
            "0.12     30\n",
            "0.26     30\n",
            "Name: satisfaction_level, Length: 92, dtype: int64\n"
          ],
          "name": "stdout"
        },
        {
          "output_type": "stream",
          "text": [
            "/usr/local/lib/python3.6/dist-packages/seaborn/_decorators.py:43: FutureWarning: Pass the following variables as keyword args: x, y. From version 0.12, the only valid positional argument will be `data`, and passing other arguments without an explicit keyword will result in an error or misinterpretation.\n",
            "  FutureWarning\n"
          ],
          "name": "stderr"
        },
        {
          "output_type": "display_data",
          "data": {
            "image/png": "[encoded data removed]",
            "text/plain": [
              "<Figure size 432x288 with 1 Axes>"
            ]
          },
          "metadata": {
            "tags": [],
            "needs_background": "light"
          }
        },
        {
          "output_type": "stream",
          "text": [
            "\n",
            "\n",
            "\n",
            "\t\t\t\t last_evaluation\n",
            "0.55    358\n",
            "0.50    353\n",
            "0.54    350\n",
            "0.51    345\n",
            "0.57    333\n",
            "       ... \n",
            "0.39     52\n",
            "0.43     50\n",
            "0.38     50\n",
            "0.44     44\n",
            "0.36     22\n",
            "Name: last_evaluation, Length: 65, dtype: int64\n"
          ],
          "name": "stdout"
        },
        {
          "output_type": "stream",
          "text": [
            "/usr/local/lib/python3.6/dist-packages/seaborn/_decorators.py:43: FutureWarning: Pass the following variables as keyword args: x, y. From version 0.12, the only valid positional argument will be `data`, and passing other arguments without an explicit keyword will result in an error or misinterpretation.\n",
            "  FutureWarning\n"
          ],
          "name": "stderr"
        },
        {
          "output_type": "display_data",
          "data": {
            "image/png": "[encoded data removed]",
            "text/plain": [
              "<Figure size 432x288 with 1 Axes>"
            ]
          },
          "metadata": {
            "tags": [],
            "needs_background": "light"
          }
        },
        {
          "output_type": "stream",
          "text": [
            "\n",
            "\n",
            "\n",
            "\t\t\t\t number_project\n",
            "4    4365\n",
            "3    4055\n",
            "5    2761\n",
            "2    2388\n",
            "6    1174\n",
            "7     256\n",
            "Name: number_project, dtype: int64\n"
          ],
          "name": "stdout"
        },
        {
          "output_type": "stream",
          "text": [
            "/usr/local/lib/python3.6/dist-packages/seaborn/_decorators.py:43: FutureWarning: Pass the following variables as keyword args: x, y. From version 0.12, the only valid positional argument will be `data`, and passing other arguments without an explicit keyword will result in an error or misinterpretation.\n",
            "  FutureWarning\n"
          ],
          "name": "stderr"
        },
        {
          "output_type": "display_data",
          "data": {
            "image/png": "[encoded data removed]",
            "text/plain": [
              "<Figure size 432x288 with 1 Axes>"
            ]
          },
          "metadata": {
            "tags": [],
            "needs_background": "light"
          }
        },
        {
          "output_type": "stream",
          "text": [
            "\n",
            "\n",
            "\n",
            "\t\t\t\t average_montly_hours\n",
            "156    153\n",
            "135    153\n",
            "149    148\n",
            "151    147\n",
            "160    136\n",
            "      ... \n",
            "297      7\n",
            "303      6\n",
            "288      6\n",
            "299      6\n",
            "96       6\n",
            "Name: average_montly_hours, Length: 215, dtype: int64\n"
          ],
          "name": "stdout"
        },
        {
          "output_type": "stream",
          "text": [
            "/usr/local/lib/python3.6/dist-packages/seaborn/_decorators.py:43: FutureWarning: Pass the following variables as keyword args: x, y. From version 0.12, the only valid positional argument will be `data`, and passing other arguments without an explicit keyword will result in an error or misinterpretation.\n",
            "  FutureWarning\n"
          ],
          "name": "stderr"
        },
        {
          "output_type": "display_data",
          "data": {
            "image/png": "[encoded data removed]",
            "text/plain": [
              "<Figure size 432x288 with 1 Axes>"
            ]
          },
          "metadata": {
            "tags": [],
            "needs_background": "light"
          }
        },
        {
          "output_type": "stream",
          "text": [
            "\n",
            "\n",
            "\n",
            "\t\t\t\t time_spend_company\n",
            "3     6443\n",
            "2     3244\n",
            "4     2557\n",
            "5     1473\n",
            "6      718\n",
            "10     214\n",
            "7      188\n",
            "8      162\n",
            "Name: time_spend_company, dtype: int64\n"
          ],
          "name": "stdout"
        },
        {
          "output_type": "stream",
          "text": [
            "/usr/local/lib/python3.6/dist-packages/seaborn/_decorators.py:43: FutureWarning: Pass the following variables as keyword args: x, y. From version 0.12, the only valid positional argument will be `data`, and passing other arguments without an explicit keyword will result in an error or misinterpretation.\n",
            "  FutureWarning\n"
          ],
          "name": "stderr"
        },
        {
          "output_type": "display_data",
          "data": {
            "image/png": "[encoded data removed]",
            "text/plain": [
              "<Figure size 432x288 with 1 Axes>"
            ]
          },
          "metadata": {
            "tags": [],
            "needs_background": "light"
          }
        },
        {
          "output_type": "stream",
          "text": [
            "\n",
            "\n",
            "\n",
            "\t\t\t\t Work_accident\n",
            "0    12830\n",
            "1     2169\n",
            "Name: Work_accident, dtype: int64\n"
          ],
          "name": "stdout"
        },
        {
          "output_type": "stream",
          "text": [
            "/usr/local/lib/python3.6/dist-packages/seaborn/_decorators.py:43: FutureWarning: Pass the following variables as keyword args: x, y. From version 0.12, the only valid positional argument will be `data`, and passing other arguments without an explicit keyword will result in an error or misinterpretation.\n",
            "  FutureWarning\n"
          ],
          "name": "stderr"
        },
        {
          "output_type": "display_data",
          "data": {
            "image/png": "[encoded data removed]",
            "text/plain": [
              "<Figure size 432x288 with 1 Axes>"
            ]
          },
          "metadata": {
            "tags": [],
            "needs_background": "light"
          }
        },
        {
          "output_type": "stream",
          "text": [
            "\n",
            "\n",
            "\n",
            "\t\t\t\t left\n",
            "0    11428\n",
            "1     3571\n",
            "Name: left, dtype: int64\n"
          ],
          "name": "stdout"
        },
        {
          "output_type": "stream",
          "text": [
            "/usr/local/lib/python3.6/dist-packages/seaborn/_decorators.py:43: FutureWarning: Pass the following variables as keyword args: x, y. From version 0.12, the only valid positional argument will be `data`, and passing other arguments without an explicit keyword will result in an error or misinterpretation.\n",
            "  FutureWarning\n"
          ],
          "name": "stderr"
        },
        {
          "output_type": "display_data",
          "data": {
            "image/png": "[encoded data removed]",
            "text/plain": [
              "<Figure size 432x288 with 1 Axes>"
            ]
          },
          "metadata": {
            "tags": [],
            "needs_background": "light"
          }
        },
        {
          "output_type": "stream",
          "text": [
            "\n",
            "\n",
            "\n",
            "\t\t\t\t promotion_last_5years\n",
            "0    14680\n",
            "1      319\n",
            "Name: promotion_last_5years, dtype: int64\n"
          ],
          "name": "stdout"
        },
        {
          "output_type": "stream",
          "text": [
            "/usr/local/lib/python3.6/dist-packages/seaborn/_decorators.py:43: FutureWarning: Pass the following variables as keyword args: x, y. From version 0.12, the only valid positional argument will be `data`, and passing other arguments without an explicit keyword will result in an error or misinterpretation.\n",
            "  FutureWarning\n"
          ],
          "name": "stderr"
        },
        {
          "output_type": "display_data",
          "data": {
            "image/png": "[encoded data removed]",
            "text/plain": [
              "<Figure size 432x288 with 1 Axes>"
            ]
          },
          "metadata": {
            "tags": [],
            "needs_background": "light"
          }
        },
        {
          "output_type": "stream",
          "text": [
            "\n",
            "\n",
            "\n",
            "\t\t\t\t sales\n",
            "sales          4140\n",
            "technical      2720\n",
            "support        2229\n",
            "IT             1227\n",
            "product_mng     902\n",
            "marketing       858\n",
            "RandD           787\n",
            "accounting      767\n",
            "hr              739\n",
            "management      630\n",
            "Name: sales, dtype: int64\n"
          ],
          "name": "stdout"
        },
        {
          "output_type": "stream",
          "text": [
            "/usr/local/lib/python3.6/dist-packages/seaborn/_decorators.py:43: FutureWarning: Pass the following variables as keyword args: x, y. From version 0.12, the only valid positional argument will be `data`, and passing other arguments without an explicit keyword will result in an error or misinterpretation.\n",
            "  FutureWarning\n"
          ],
          "name": "stderr"
        },
        {
          "output_type": "display_data",
          "data": {
            "image/png": "[encoded data removed]",
            "text/plain": [
              "<Figure size 432x288 with 1 Axes>"
            ]
          },
          "metadata": {
            "tags": [],
            "needs_background": "light"
          }
        },
        {
          "output_type": "stream",
          "text": [
            "\n",
            "\n",
            "\n",
            "\t\t\t\t salary\n",
            "low       7316\n",
            "medium    6446\n",
            "high      1237\n",
            "Name: salary, dtype: int64\n"
          ],
          "name": "stdout"
        },
        {
          "output_type": "stream",
          "text": [
            "/usr/local/lib/python3.6/dist-packages/seaborn/_decorators.py:43: FutureWarning: Pass the following variables as keyword args: x, y. From version 0.12, the only valid positional argument will be `data`, and passing other arguments without an explicit keyword will result in an error or misinterpretation.\n",
            "  FutureWarning\n"
          ],
          "name": "stderr"
        },
        {
          "output_type": "display_data",
          "data": {
            "image/png": "[encoded data removed]",
            "text/plain": [
              "<Figure size 432x288 with 1 Axes>"
            ]
          },
          "metadata": {
            "tags": [],
            "needs_background": "light"
          }
        },
        {
          "output_type": "stream",
          "text": [
            "\n",
            "\n",
            "\n"
          ],
          "name": "stdout"
        }
      ]
    },
    {
      "cell_type": "code",
      "metadata": {
        "id": "jpMTONSCUpVM",
        "colab": {
          "base_uri": "https://localhost:8080/",
          "height": 500
        },
        "outputId": "979849ab-d280-413e-ad4b-9f0219b1f8e7"
      },
      "source": [
        "plt.figure(figsize=(10,6))\n",
        "sns.heatmap(df.corr() , annot =True)"
      ],
      "execution_count": 8,
      "outputs": [
        {
          "output_type": "execute_result",
          "data": {
            "text/plain": [
              "<matplotlib.axes._subplots.AxesSubplot at 0x7f6118d9b438>"
            ]
          },
          "metadata": {
            "tags": []
          },
          "execution_count": 8
        },
        {
          "output_type": "display_data",
          "data": {
            "image/png": "[encoded data removed]",
            "text/plain": [
              "<Figure size 720x432 with 2 Axes>"
            ]
          },
          "metadata": {
            "tags": [],
            "needs_background": "light"
          }
        }
      ]
    },
    {
      "cell_type": "code",
      "metadata": {
        "id": "cB2YJ6IcqHsG",
        "colab": {
          "base_uri": "https://localhost:8080/",
          "height": 310
        },
        "outputId": "e7ec30a1-e3d2-4f7b-f4d5-e3391266eff0"
      },
      "source": [
        "pd.crosstab(df.salary, df.left).plot(kind='bar')\n",
        "plt.show()"
      ],
      "execution_count": 9,
      "outputs": [
        {
          "output_type": "display_data",
          "data": {
            "image/png": "[encoded data removed]",
            "text/plain": [
              "<Figure size 432x288 with 1 Axes>"
            ]
          },
          "metadata": {
            "tags": [],
            "needs_background": "light"
          }
        }
      ]
    },
    {
      "cell_type": "code",
      "metadata": {
        "id": "gyLDjf5vqW3g",
        "colab": {
          "base_uri": "https://localhost:8080/",
          "height": 524
        },
        "outputId": "d517aae4-9b93-4d61-94dd-f3002f4ce64c"
      },
      "source": [
        "q = pd.crosstab(df.salary, df.left)\n",
        "print(q)\n",
        "print('\\n')\n",
        "print(q.sum(1))\n",
        "q.div(q.sum(1), axis = 0).plot(kind='bar', stacked = True)\n",
        "plt.show()"
      ],
      "execution_count": 10,
      "outputs": [
        {
          "output_type": "stream",
          "text": [
            "left       0     1\n",
            "salary            \n",
            "high    1155    82\n",
            "low     5144  2172\n",
            "medium  5129  1317\n",
            "\n",
            "\n",
            "salary\n",
            "high      1237\n",
            "low       7316\n",
            "medium    6446\n",
            "dtype: int64\n"
          ],
          "name": "stdout"
        },
        {
          "output_type": "display_data",
          "data": {
            "image/png": "[encoded data removed]",
            "text/plain": [
              "<Figure size 432x288 with 1 Axes>"
            ]
          },
          "metadata": {
            "tags": [],
            "needs_background": "light"
          }
        }
      ]
    },
    {
      "cell_type": "code",
      "metadata": {
        "id": "xQL9Z7fmqkIz"
      },
      "source": [
        "# Using dmatrices to generate dummy variables\n",
        "\n",
        "y, X = dmatrices('left~satisfaction_level+last_evaluation+number_project+average_montly_hours+time_spend_company+Work_accident+promotion_last_5years+C(sales)+C(salary)', df, return_type='dataframe')\n",
        "# X.head()\n",
        "X = X.rename(columns = {\n",
        "    'C(sales)[T.RandD]': 'Department: Random',\n",
        "    'C(sales)[T.accounting]': 'Department: Accounting',\n",
        "    'C(sales)[T.hr]': 'Department: HR',\n",
        "    'C(sales)[T.management]': 'Department: Management',\n",
        "    'C(sales)[T.marketing]': 'Department: Marketing',\n",
        "    'C(sales)[T.product_mng]': 'Department: Product_Management',\n",
        "    'C(sales)[T.sales]': 'Department: Sales',\n",
        "    'C(sales)[T.support]': 'Department: Support',\n",
        "    'C(sales)[T.technical]': 'Department: Technical',\n",
        "    'C(salary)[T.low]': 'Salary: Low',\n",
        "    'C(salary)[T.medium]': 'Salary: Medium'}) \n",
        "y = np.ravel(y)"
      ],
      "execution_count": 11,
      "outputs": []
    },
    {
      "cell_type": "markdown",
      "metadata": {
        "id": "G7JX9JJQHHqc"
      },
      "source": [
        "#Model Training"
      ]
    },
    {
      "cell_type": "code",
      "metadata": {
        "id": "ST17tXPdsszk",
        "colab": {
          "base_uri": "https://localhost:8080/"
        },
        "outputId": "8c131d6f-0595-4688-8c12-09bb11b73645"
      },
      "source": [
        "Xtrain,Xtest,ytrain,ytest=train_test_split(X, y, test_size=0.2, random_state=0, )\n",
        "model = LogisticRegression()\n",
        "model.fit(Xtrain, ytrain)"
      ],
      "execution_count": 15,
      "outputs": [
        {
          "output_type": "stream",
          "text": [
            "/usr/local/lib/python3.6/dist-packages/sklearn/linear_model/_logistic.py:940: ConvergenceWarning: lbfgs failed to converge (status=1):\n",
            "STOP: TOTAL NO. of ITERATIONS REACHED LIMIT.\n",
            "\n",
            "Increase the number of iterations (max_iter) or scale the data as shown in:\n",
            "    https://scikit-learn.org/stable/modules/preprocessing.html\n",
            "Please also refer to the documentation for alternative solver options:\n",
            "    https://scikit-learn.org/stable/modules/linear_model.html#logistic-regression\n",
            "  extra_warning_msg=_LOGISTIC_SOLVER_CONVERGENCE_MSG)\n"
          ],
          "name": "stderr"
        },
        {
          "output_type": "execute_result",
          "data": {
            "text/plain": [
              "LogisticRegression(C=1.0, class_weight=None, dual=False, fit_intercept=True,\n",
              "                   intercept_scaling=1, l1_ratio=None, max_iter=100,\n",
              "                   multi_class='auto', n_jobs=None, penalty='l2',\n",
              "                   random_state=None, solver='lbfgs', tol=0.0001, verbose=0,\n",
              "                   warm_start=False)"
            ]
          },
          "metadata": {
            "tags": []
          },
          "execution_count": 15
        }
      ]
    },
    {
      "cell_type": "code",
      "metadata": {
        "id": "Wmpctk6Vro1r",
        "colab": {
          "base_uri": "https://localhost:8080/"
        },
        "outputId": "a9cc0abb-d429-44a9-b7e7-1de590756abf"
      },
      "source": [
        "print(pd.DataFrame(list(zip(X.columns, np.transpose(model.coef_)))))"
      ],
      "execution_count": 16,
      "outputs": [
        {
          "output_type": "stream",
          "text": [
            "                                 0                       1\n",
            "0                        Intercept  [-0.35189658458835993]\n",
            "1               Department: Random  [-0.45463587907338876]\n",
            "2           Department: Accounting    [0.1603979155141592]\n",
            "3                   Department: HR    [0.3818910479617436]\n",
            "4           Department: Management   [-0.5025997927844744]\n",
            "5            Department: Marketing   [0.03927312654362365]\n",
            "6   Department: Product_Management  [0.017535080540682833]\n",
            "7                Department: Sales   [0.01006156760529475]\n",
            "8              Department: Support   [0.29383925643476305]\n",
            "9            Department: Technical   [0.26784084892673543]\n",
            "10                     Salary: Low    [1.3829081026174745]\n",
            "11                  Salary: Medium    [0.8339312920974113]\n",
            "12              satisfaction_level    [-4.069620712445086]\n",
            "13                 last_evaluation   [0.14199182365919766]\n",
            "14                  number_project  [-0.29447466261063326]\n",
            "15            average_montly_hours  [0.004534721289497251]\n",
            "16              time_spend_company   [0.25551409607864767]\n",
            "17                   Work_accident   [-1.5996522022723114]\n",
            "18           promotion_last_5years   [-0.6144421370071542]\n"
          ],
          "name": "stdout"
        }
      ]
    },
    {
      "cell_type": "code",
      "metadata": {
        "id": "_fckrtSgsuT3",
        "colab": {
          "base_uri": "https://localhost:8080/"
        },
        "outputId": "809edec1-3ef0-4ceb-b821-d5a7c9274c75"
      },
      "source": [
        "pred = model.predict(Xtest)\n",
        "metrics.accuracy_score(ytest, pred)"
      ],
      "execution_count": 17,
      "outputs": [
        {
          "output_type": "execute_result",
          "data": {
            "text/plain": [
              "0.7996666666666666"
            ]
          },
          "metadata": {
            "tags": []
          },
          "execution_count": 17
        }
      ]
    },
    {
      "cell_type": "code",
      "metadata": {
        "colab": {
          "base_uri": "https://localhost:8080/"
        },
        "id": "j8k5i_6bG4Vh",
        "outputId": "6e046dbc-1c7d-4298-a0be-676bf60497d4"
      },
      "source": [
        "#sklearn.metrics.classification_report(y_true, y_pred)\n",
        "print(metrics.classification_report(ytest, pred))"
      ],
      "execution_count": 23,
      "outputs": [
        {
          "output_type": "stream",
          "text": [
            "              precision    recall  f1-score   support\n",
            "\n",
            "         0.0       0.83      0.93      0.88      2299\n",
            "         1.0       0.61      0.38      0.47       701\n",
            "\n",
            "    accuracy                           0.80      3000\n",
            "   macro avg       0.72      0.65      0.67      3000\n",
            "weighted avg       0.78      0.80      0.78      3000\n",
            "\n"
          ],
          "name": "stdout"
        }
      ]
    },
    {
      "cell_type": "markdown",
      "metadata": {
        "id": "ekDLLDzevHGl"
      },
      "source": [
        "#CREATING PICKLE FILE"
      ]
    },
    {
      "cell_type": "code",
      "metadata": {
        "id": "qO7Kpt_rvGZl"
      },
      "source": [
        "filename = 'finalized_model.pkl'\n",
        "pickle.dump(model, open(filename, 'wb'))"
      ],
      "execution_count": 18,
      "outputs": []
    },
    {
      "cell_type": "code",
      "metadata": {
        "id": "666T1BcFvSYp",
        "colab": {
          "base_uri": "https://localhost:8080/"
        },
        "outputId": "f66812d3-28dd-424b-a308-0e8fca0b9670"
      },
      "source": [
        "loaded_model = pickle.load(open(filename, 'rb'))\n",
        "result = loaded_model.score(Xtest, ytest)\n",
        "print(result)"
      ],
      "execution_count": 19,
      "outputs": [
        {
          "output_type": "stream",
          "text": [
            "0.7996666666666666\n"
          ],
          "name": "stdout"
        }
      ]
    },
    {
      "cell_type": "code",
      "metadata": {
        "id": "nWk4lQL7vcg1",
        "colab": {
          "base_uri": "https://localhost:8080/"
        },
        "outputId": "c341fc58-c78a-42db-e503-d1b46dedda2b"
      },
      "source": [
        "# use trained model to predict an example\n",
        "loaded_model.predict_proba([[1,0,0,1,0,0,0,0,0,0,0,0, 0.5, 0.7, 4.0, 160, 3.0, 0, 0]])"
      ],
      "execution_count": 20,
      "outputs": [
        {
          "output_type": "execute_result",
          "data": {
            "text/plain": [
              "array([[0.87578489, 0.12421511]])"
            ]
          },
          "metadata": {
            "tags": []
          },
          "execution_count": 20
        }
      ]
    }
  ]
}